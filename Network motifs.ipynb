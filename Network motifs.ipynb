{
 "cells": [
  {
   "cell_type": "markdown",
   "id": "9b0f77fd",
   "metadata": {},
   "source": [
    "# Network motifs\n",
    "In this notebook, we will be exploring how to work with network motifs. You will first need the following two modules. Networx is one of the main network science libraries for python. It has many functions built in for network analysis https://networkx.org/. We will also need the packages below. You may already have them installed, if so, you can skip the first cell, and just load them in the second cell."
   ]
  },
  {
   "cell_type": "code",
   "execution_count": 5,
   "id": "6b238cda",
   "metadata": {},
   "outputs": [
    {
     "name": "stdout",
     "output_type": "stream",
     "text": [
      "Requirement already satisfied: tabulate in c:\\users\\stegehuisc\\anaconda3\\lib\\site-packages (0.9.0)\n"
     ]
    },
    {
     "name": "stderr",
     "output_type": "stream",
     "text": [
      "WARNING: You are using pip version 22.0.3; however, version 23.0.1 is available.\n",
      "You should consider upgrading via the 'C:\\Users\\StegehuisC\\Anaconda3\\python.exe -m pip install --upgrade pip' command.\n"
     ]
    },
    {
     "name": "stdout",
     "output_type": "stream",
     "text": [
      "Requirement already satisfied: numpy in c:\\users\\stegehuisc\\anaconda3\\lib\\site-packages (1.20.3)\n"
     ]
    },
    {
     "name": "stderr",
     "output_type": "stream",
     "text": [
      "WARNING: You are using pip version 22.0.3; however, version 23.0.1 is available.\n",
      "You should consider upgrading via the 'C:\\Users\\StegehuisC\\Anaconda3\\python.exe -m pip install --upgrade pip' command.\n"
     ]
    },
    {
     "name": "stdout",
     "output_type": "stream",
     "text": [
      "Requirement already satisfied: networkx in c:\\users\\stegehuisc\\anaconda3\\lib\\site-packages (2.6.3)\n"
     ]
    },
    {
     "name": "stderr",
     "output_type": "stream",
     "text": [
      "WARNING: You are using pip version 22.0.3; however, version 23.0.1 is available.\n",
      "You should consider upgrading via the 'C:\\Users\\StegehuisC\\Anaconda3\\python.exe -m pip install --upgrade pip' command.\n"
     ]
    },
    {
     "name": "stdout",
     "output_type": "stream",
     "text": [
      "Requirement already satisfied: matplotlib in c:\\users\\stegehuisc\\anaconda3\\lib\\site-packages (3.4.3)\n",
      "Requirement already satisfied: python-dateutil>=2.7 in c:\\users\\stegehuisc\\anaconda3\\lib\\site-packages (from matplotlib) (2.8.2)\n",
      "Requirement already satisfied: kiwisolver>=1.0.1 in c:\\users\\stegehuisc\\anaconda3\\lib\\site-packages (from matplotlib) (1.3.1)\n",
      "Requirement already satisfied: cycler>=0.10 in c:\\users\\stegehuisc\\anaconda3\\lib\\site-packages (from matplotlib) (0.10.0)\n",
      "Requirement already satisfied: numpy>=1.16 in c:\\users\\stegehuisc\\anaconda3\\lib\\site-packages (from matplotlib) (1.20.3)\n",
      "Requirement already satisfied: pillow>=6.2.0 in c:\\users\\stegehuisc\\anaconda3\\lib\\site-packages (from matplotlib) (8.4.0)\n",
      "Requirement already satisfied: pyparsing>=2.2.1 in c:\\users\\stegehuisc\\anaconda3\\lib\\site-packages (from matplotlib) (3.0.4)\n",
      "Requirement already satisfied: six in c:\\users\\stegehuisc\\anaconda3\\lib\\site-packages (from cycler>=0.10->matplotlib) (1.16.0)\n"
     ]
    },
    {
     "name": "stderr",
     "output_type": "stream",
     "text": [
      "WARNING: You are using pip version 22.0.3; however, version 23.0.1 is available.\n",
      "You should consider upgrading via the 'C:\\Users\\StegehuisC\\Anaconda3\\python.exe -m pip install --upgrade pip' command.\n",
      "ERROR: Could not find a version that satisfies the requirement random (from versions: none)\n",
      "ERROR: No matching distribution found for random\n",
      "WARNING: You are using pip version 22.0.3; however, version 23.0.1 is available.\n",
      "You should consider upgrading via the 'C:\\Users\\StegehuisC\\Anaconda3\\python.exe -m pip install --upgrade pip' command.\n"
     ]
    }
   ],
   "source": [
    "import sys\n",
    "!{sys.executable} -m pip install tabulate\n",
    "!{sys.executable} -m pip install numpy\n",
    "!{sys.executable} -m pip install networkx\n",
    "!{sys.executable} -m pip install matplotlib\n",
    "!{sys.executable} -m pip install random"
   ]
  },
  {
   "cell_type": "code",
   "execution_count": 16,
   "id": "f05e4734",
   "metadata": {},
   "outputs": [],
   "source": [
    "import numpy as np\n",
    "import networkx as nx\n",
    "from matplotlib import pyplot as plt\n",
    "import random as rd\n",
    "from tabulate import tabulate"
   ]
  },
  {
   "cell_type": "markdown",
   "id": "d6c896dc",
   "metadata": {},
   "source": [
    "We will investigate motifs in the network of network science collaborations, so first let's load the data that you are interested in."
   ]
  },
  {
   "cell_type": "code",
   "execution_count": 7,
   "id": "62d27261",
   "metadata": {},
   "outputs": [
    {
     "name": "stdout",
     "output_type": "stream",
     "text": [
      "Graph with 1461 nodes and 2742 edges\n"
     ]
    }
   ],
   "source": [
    "G = nx.read_adjlist(\"netsci_data.tar\")     #read adjacency list into a graph object\n",
    "print(nx.info(G))"
   ]
  },
  {
   "cell_type": "markdown",
   "id": "7e987c29",
   "metadata": {},
   "source": [
    "## Exercise 1 \n",
    "Count the number of triangles in the data sets"
   ]
  },
  {
   "cell_type": "code",
   "execution_count": 8,
   "id": "faeeb2f6",
   "metadata": {},
   "outputs": [
    {
     "name": "stdout",
     "output_type": "stream",
     "text": [
      "3764.0  triangles\n"
     ]
    }
   ],
   "source": [
    "triad_count = sum(nx.triangles(G).values()) / 3 #In networkx, every triangle is counted 3 times, due to reordering of the vertices\n",
    "print(triad_count, \" triangles\")"
   ]
  },
  {
   "cell_type": "markdown",
   "id": "74ce5b5a",
   "metadata": {},
   "source": [
    "Now let's say that we take an Erdos Renyi model as a null model to test for whether a statistically significant number of triangles is present. First figure out what the correct values of $n$ and $p$ are to compare the ER-model with your data set."
   ]
  },
  {
   "cell_type": "code",
   "execution_count": 9,
   "id": "bc02888a",
   "metadata": {},
   "outputs": [
    {
     "name": "stdout",
     "output_type": "stream",
     "text": [
      "0.0025691946811486044\n"
     ]
    }
   ],
   "source": [
    "n = len(G.nodes())               # fill in the correct value of n\n",
    "p = 2*len(G.edges())/(n*n)       # fill in the correct value of p\n",
    "print(p)"
   ]
  },
  {
   "cell_type": "markdown",
   "id": "dc5fdc88",
   "metadata": {},
   "source": [
    "With these values for $n$ and $p$, we can generate let's say 100 ER models that should serve as null models for the data sets, and count triangles in those null models. "
   ]
  },
  {
   "cell_type": "code",
   "execution_count": 10,
   "id": "9fe1b5fa",
   "metadata": {},
   "outputs": [],
   "source": [
    "test_triad_counts = []  # vector with triangle counts in the ER model\n",
    "for i in range(100):\n",
    "    G_test = nx.erdos_renyi_graph(n,p)\n",
    "    test_triad_counts.append(sum(nx.triangles(G_test).values()) / 3)"
   ]
  },
  {
   "cell_type": "markdown",
   "id": "23d6cd4b",
   "metadata": {},
   "source": [
    "Now plot a histogram of the generated triangle counts from the ER model together with the triangle count in the network data"
   ]
  },
  {
   "cell_type": "code",
   "execution_count": 11,
   "id": "707c50bc",
   "metadata": {},
   "outputs": [],
   "source": [
    "def plot_triads(countvec,datacount):    #This function plots a histogram of countvec, with a horizontal line at datacount\n",
    "    fig, ax = plt.subplots(figsize =(10, 7))\n",
    "    ax.hist(countvec, alpha = 0.65)\n",
    "    plt.style.use(\"bmh\")\n",
    "\n",
    "    ax.set_yticks([])\n",
    "    ax.grid(False)\n",
    "    ax.tick_params(left = False, bottom = False)\n",
    "    for ax, spine in ax.spines.items():\n",
    "        spine.set_visible(False)\n",
    "    plt.xlabel(\"triangle counts\",size = 17)\n",
    "    plt.ylabel(\"frequency\",size = 17)\n",
    "    plt.axvline(datacount, color = 'k', linestyle='dashed', linewidth=2)\n",
    "\n",
    "    # Show plot\n",
    "    plt.show()"
   ]
  },
  {
   "cell_type": "code",
   "execution_count": 12,
   "id": "0bf7b1e1",
   "metadata": {},
   "outputs": [
    {
     "data": {
      "image/png": "[encoded data removed]",
      "text/plain": [
       "<Figure size 720x504 with 1 Axes>"
      ]
     },
     "metadata": {
      "needs_background": "light"
     },
     "output_type": "display_data"
    }
   ],
   "source": [
    "plot_triads(test_triad_counts,triad_count)"
   ]
  },
  {
   "cell_type": "markdown",
   "id": "9d126077",
   "metadata": {},
   "source": [
    "Now compute the Z-score of the triangle counts:"
   ]
  },
  {
   "cell_type": "code",
   "execution_count": 13,
   "id": "dc008253",
   "metadata": {},
   "outputs": [],
   "source": [
    "def Zscore(countvec,datacount):       #compute the Z score of datacount, when the null model produces as samples countvec\n",
    "    meancount = np.average(countvec)\n",
    "    std_count = np.std(countvec)     # standard deviation of triangle counts in null model\n",
    "    return (datacount-meancount)/std_count"
   ]
  },
  {
   "cell_type": "code",
   "execution_count": 14,
   "id": "b3973cd0",
   "metadata": {},
   "outputs": [
    {
     "name": "stdout",
     "output_type": "stream",
     "text": [
      "Zscore is  1359.8368619910045\n"
     ]
    }
   ],
   "source": [
    "print('Zscore is ',Zscore(test_triad_counts,triad_count))"
   ]
  },
  {
   "cell_type": "markdown",
   "id": "8b91e249",
   "metadata": {},
   "source": [
    "### Configuration model\n",
    "Now let's try the same thing in the configuration model. The input for the configuration model is a degree sequence, and it creates a random graph on those degrees. So first generate the correct input for the configuration model to be able to compare it to the data, and then compare triangle counts. "
   ]
  },
  {
   "cell_type": "code",
   "execution_count": 317,
   "id": "fcff6b4e",
   "metadata": {},
   "outputs": [
    {
     "data": {
      "image/png": "[encoded data removed]",
      "text/plain": [
       "<Figure size 720x504 with 1 Axes>"
      ]
     },
     "metadata": {
      "needs_background": "light"
     },
     "output_type": "display_data"
    },
    {
     "name": "stdout",
     "output_type": "stream",
     "text": [
      "604.0035847523432\n"
     ]
    }
   ],
   "source": [
    "degree_sequence = [d for n, d in G.degree()] # Pick the correct degree sequence\n",
    "\n",
    "test_triad_config = []\n",
    "for i in range(100):\n",
    "    G_config = nx.configuration_model(degree_sequence)\n",
    "    G_config= nx.Graph(G_config)\n",
    "    test_triad_config.append(sum(nx.triangles(G_config).values()) / 3)\n",
    "plot_triads(test_triad_config,triad_count)\n",
    "print('Zscore is ',Zscore(test_triad_config,triad_count))"
   ]
  },
  {
   "cell_type": "markdown",
   "id": "b1ec7aeb",
   "metadata": {},
   "source": [
    "### Geometric random graph \n",
    "Now let's try yet another null model, the geometric random graph. Here, the input parameters are the radius $r$ and the number of vertices $n$. This model assumes that all $n$ vertices are uniformly placed in a $[0,1]^2$ box, and that every vertex connects with vertices within radius $r$. First, find the values of $r$ and $n$ for which you would be able to compare them to your data set, and then compare triangle counts."
   ]
  },
  {
   "cell_type": "code",
   "execution_count": 321,
   "id": "7908cbc4",
   "metadata": {},
   "outputs": [
    {
     "data": {
      "image/png": "[encoded data removed]",
      "text/plain": [
       "<Figure size 720x504 with 1 Axes>"
      ]
     },
     "metadata": {
      "needs_background": "light"
     },
     "output_type": "display_data"
    },
    {
     "name": "stdout",
     "output_type": "stream",
     "text": [
      "Zscore is  15.088133284839419\n"
     ]
    }
   ],
   "source": [
    "avgdeg = 2*len(G.edges())/n\n",
    "\n",
    "radius = np.sqrt(avgdeg/(n*np.pi))    # compute the radius which you think makes the Geometrc random graph a good null model\n",
    "\n",
    "G_geom = nx.random_geometric_graph(n, radius)\n",
    "\n",
    "test_triad_geom = []\n",
    "for i in range(100):\n",
    "    G_geom = nx.random_geometric_graph(n, radius)\n",
    "    test_triad_geom.append(sum(nx.triangles(G_geom).values()) / 3)\n",
    "plot_triads(test_triad_geom,triad_count)\n",
    "print('Zscore is ', Zscore(test_triad_geom,triad_count))"
   ]
  },
  {
   "cell_type": "markdown",
   "id": "03338056",
   "metadata": {},
   "source": [
    "## Questions\n",
    "What are the differences between the different null models?\n",
    "\n",
    "Are triangles always significant according to the Z-score?\n",
    "\n",
    "Are there differences when selecting different data sets?\n",
    "\n",
    "What is a good null model for these data?"
   ]
  },
  {
   "cell_type": "markdown",
   "id": "eecd3b49",
   "metadata": {},
   "source": [
    "# Part 2\n",
    "##  Other motifs\n",
    "We now investigate some other motif types. For simplicity, we will stick with cliques. First, lets generate a list of all cliques in the network, and a function that then counts all cliques of size $k$."
   ]
  },
  {
   "cell_type": "code",
   "execution_count": 21,
   "id": "10bbbe85",
   "metadata": {},
   "outputs": [],
   "source": [
    "clique_list = nx.enumerate_all_cliques(G)   "
   ]
  },
  {
   "cell_type": "code",
   "execution_count": 22,
   "id": "a6d247c0",
   "metadata": {},
   "outputs": [],
   "source": [
    "def cliquenumber(cliques,k):                #A function that takes a list with all cliques in the graph, and then reports the number of k-cliques\n",
    "    k_clique_num = 0\n",
    "    for i in cliques:\n",
    "        if len(i)==k:\n",
    "            k_clique_num += 1\n",
    "    return k_clique_num"
   ]
  },
  {
   "cell_type": "markdown",
   "id": "b21ff036",
   "metadata": {},
   "source": [
    "Pick a value of $k$ that you are interested in (probably very large cliques do not appear so often, so you may want to choose it not so much bigger than 3). Then perform the clique count in the data."
   ]
  },
  {
   "cell_type": "code",
   "execution_count": 23,
   "id": "1382b33a",
   "metadata": {},
   "outputs": [
    {
     "name": "stdout",
     "output_type": "stream",
     "text": [
      "7159\n"
     ]
    }
   ],
   "source": [
    "k = 4\n",
    "clique_count_G = cliquenumber(clique_list,k)\n",
    "print(clique_count_G)"
   ]
  },
  {
   "cell_type": "markdown",
   "id": "3ad1394b",
   "metadata": {},
   "source": [
    "You can now try the different null models for larger clique sizes and compare. The code now has the ER graph as a null mode, but you can try the other two null models as well:"
   ]
  },
  {
   "cell_type": "code",
   "execution_count": 24,
   "id": "f565f62a",
   "metadata": {},
   "outputs": [
    {
     "data": {
      "image/png": "[encoded data removed]",
      "text/plain": [
       "<Figure size 720x504 with 1 Axes>"
      ]
     },
     "metadata": {
      "needs_background": "light"
     },
     "output_type": "display_data"
    }
   ],
   "source": [
    "test_kclique_counts = []\n",
    "for i in range(100):\n",
    "    G_test = nx.erdos_renyi_graph(n,p)\n",
    "    G_test_cliques = nx.enumerate_all_cliques(G_test) \n",
    "    test_kclique_counts.append(cliquenumber(G_test_cliques,k))\n",
    "plot_triads(test_kclique_counts,clique_count_G)"
   ]
  },
  {
   "cell_type": "markdown",
   "id": "8488582f",
   "metadata": {},
   "source": [
    "### Questions\n",
    "Do other $k$-cliques appear significantly often compared to the null models?"
   ]
  },
  {
   "cell_type": "markdown",
   "id": "f685b873",
   "metadata": {},
   "source": [
    "# Part 3\n",
    "## Sampling\n",
    "Sometimes it is not possible to count the exact number of subgraphs in a large networks due to large computation times. One of the solutions to this problem is to use sampling instead. Many methods to sample subgraphs exist, but here we focus on the simplest one of them, creating a subsample of the network where every node is included with probability $p$. Then, it computes subgraphs (in this case cliques) in the reduced graph. Figure out how to obtain an estimate for the number of cliques in the larger graph from this sampled clique count. "
   ]
  },
  {
   "cell_type": "code",
   "execution_count": 290,
   "id": "021150ea",
   "metadata": {},
   "outputs": [],
   "source": [
    "def sampled_cliques(Graph,p,size): # This function takes in a graph Graph, and returns an estimated clique count for cliques of size 'size'\n",
    "    nsampled = int((1-p)*len(Graph.nodes()))\n",
    "    sample = rd.sample(list(Graph.nodes), nsampled)    \n",
    "    H=Graph.copy()\n",
    "    H.remove_nodes_from(sample)            #remove every vertex in Graph independently with probability 1-p\n",
    "\n",
    "    clique_list_sampled = nx.enumerate_all_cliques(H)  \n",
    "    sampled_clique_count = cliquenumber(clique_list_sampled,size)        # the clique count in the subsampled graph\n",
    "\n",
    "    estimated_clique_count = sampled_clique_count/((p)**size)           # figure out how to compute the estimated clique count\n",
    "    return estimated_clique_count"
   ]
  },
  {
   "cell_type": "markdown",
   "id": "fad43d39",
   "metadata": {},
   "source": [
    "The cell below creates 100 subgraph count estimates with sampling probability $p$, and plots them together with the data count (dashed line). "
   ]
  },
  {
   "cell_type": "code",
   "execution_count": 309,
   "id": "965a453f",
   "metadata": {},
   "outputs": [
    {
     "data": {
      "image/png": "[encoded data removed]",
      "text/plain": [
       "<Figure size 720x504 with 1 Axes>"
      ]
     },
     "metadata": {
      "needs_background": "light"
     },
     "output_type": "display_data"
    }
   ],
   "source": [
    "p = 0.7\n",
    "sampledvec = []\n",
    "for i in range(100):\n",
    "    sampledvec.append(sampled_cliques(G,p,k))\n",
    "plot_triads(sampledvec,clique_count_G)"
   ]
  },
  {
   "cell_type": "markdown",
   "id": "0c3cec4a",
   "metadata": {},
   "source": [
    "### Questions\n",
    "How close is the sampled subgraph count to the actual one?\n",
    "\n",
    "How small can $p$ be to still obtain accurate estimates?\n",
    "\n",
    "How does this depend on the clique size $k$?"
   ]
  },
  {
   "cell_type": "markdown",
   "id": "8559bc99",
   "metadata": {},
   "source": [
    "# Part 4\n",
    "\n",
    "Instead of sampling or exact computation of the subgraph counts in your null model, it is sometimes also possible to obtain analytical estimates for them. This can get quite involved depending on the exact null models you use, but for the Erdos Renyi model this is still doable.  Now compare the mean and variance of the triangle counts you found experimentally with the mean and variance you computed analytically. Are they similar?"
   ]
  },
  {
   "cell_type": "code",
   "execution_count": 18,
   "id": "e6ca4934",
   "metadata": {},
   "outputs": [
    {
     "name": "stdout",
     "output_type": "stream",
     "text": [
      "------------  -----------------  -----------------\n",
      "              mean               variance\n",
      "Experimental  8.88               7.6256\n",
      "Theoretical   8.796261989223112  8.899356102256517\n",
      "------------  -----------------  -----------------\n"
     ]
    }
   ],
   "source": [
    "theoretical_triads_mean = n*(n-1)*(n-2)/6*p**3              # Compute the mean number of triangles\n",
    "theoretical_var = n**4*(p**5)/6+n**3*(p**3)/6               # Compute the variance of the number of triangles\n",
    "\n",
    "experimental_mean = np.mean(test_triad_counts)              # Compute the mean number of triangles in the sampled ER graphs\n",
    "experimental_var = np.var(test_triad_counts)\n",
    "\n",
    "table = [[' ', 'Mean', 'Variance'], ['Experimental', experimental_mean,experimental_var ],['Theoretical', theoretical_triads_mean,theoretical_var ]]\n",
    "\n",
    "print(tabulate(table))"
   ]
  },
  {
   "cell_type": "markdown",
   "id": "12490ebd",
   "metadata": {},
   "source": [
    "Compare the theoretical mean number of larger $k$ cliques as well to its sampled value"
   ]
  },
  {
   "cell_type": "code",
   "execution_count": 29,
   "id": "3847c045",
   "metadata": {},
   "outputs": [
    {
     "name": "stdout",
     "output_type": "stream",
     "text": [
      "Theoretical mean  5.459736806787617e-05 Experimental mean  0.0\n"
     ]
    }
   ],
   "source": [
    "theoretical_cliques_mean = n**k/np.math.factorial(k)*p**(k*(k-1)/2)              # Compute the mean number of triangles\n",
    "experimental_mean = np.mean(test_kclique_counts) \n",
    "\n",
    "print('Theoretical mean ',theoretical_cliques_mean, 'Experimental mean ', experimental_mean)"
   ]
  },
  {
   "cell_type": "code",
   "execution_count": 149,
   "id": "d4a9a07d",
   "metadata": {},
   "outputs": [],
   "source": [
    "def isclique(Graph, nodesample):\n",
    "    for i in nodesample:\n",
    "        for j in nodesample:\n",
    "            if i!=j:\n",
    "                if Graph.has_edge(i,j) == False:\n",
    "                    return False\n",
    "    return True"
   ]
  },
  {
   "cell_type": "code",
   "execution_count": 196,
   "id": "0f25c04e",
   "metadata": {},
   "outputs": [
    {
     "name": "stdout",
     "output_type": "stream",
     "text": [
      "1585.0174\n"
     ]
    }
   ],
   "source": [
    "sampled_cliques = 0\n",
    "sample_size = 10000\n",
    "for i in range(sample_size):\n",
    "    sample = rd.sample(list(G.nodes), k)\n",
    "    sampled_cliques+=isclique(G,sample)\n",
    "estimated_count = sampled_cliques*n**k/(sample_size*np.math.factorial(k))\n",
    "print(estimated_count)"
   ]
  }
 ],
 "metadata": {
  "kernelspec": {
   "display_name": "Python 3 (ipykernel)",
   "language": "python",
   "name": "python3"
  },
  "language_info": {
   "codemirror_mode": {
    "name": "ipython",
    "version": 3
   },
   "file_extension": ".py",
   "mimetype": "text/x-python",
   "name": "python",
   "nbconvert_exporter": "python",
   "pygments_lexer": "ipython3",
   "version": "3.9.7"
  }
 },
 "nbformat": 4,
 "nbformat_minor": 5
}
